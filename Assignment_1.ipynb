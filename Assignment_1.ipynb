{
 "cells": [
  {
   "cell_type": "markdown",
   "metadata": {},
   "source": [
    "## Assignment 1"
   ]
  },
  {
   "cell_type": "code",
   "execution_count": 25,
   "metadata": {},
   "outputs": [],
   "source": [
    "import pandas as pd\n",
    "import os"
   ]
  },
  {
   "cell_type": "code",
   "execution_count": 26,
   "metadata": {},
   "outputs": [],
   "source": [
    "df = pd.read_csv('./faa_ai_prelim.csv')"
   ]
  },
  {
   "cell_type": "markdown",
   "metadata": {},
   "source": [
    "### 1. View: aircraft make name, state name, aircraft model name, text information, flight phase, event description type, fatal flag"
   ]
  },
  {
   "cell_type": "code",
   "execution_count": 27,
   "metadata": {},
   "outputs": [
    {
     "name": "stdout",
     "output_type": "stream",
     "text": [
      "    ACFT_MAKE_NAME  LOC_STATE_NAME ACFT_MODEL_NAME  \\\n",
      "0            BEECH  North Carolina              36   \n",
      "1             VANS         Florida             RV7   \n",
      "2           CESSNA      New Jersey             172   \n",
      "3          LANCAIR  North Carolina             235   \n",
      "4           CESSNA          Alaska             172   \n",
      "..             ...             ...             ...   \n",
      "78         AERONCA           Texas            O58B   \n",
      "79  NORTH AMERICAN         Arizona             F51   \n",
      "80        CHAMPION      California           8KCAB   \n",
      "81           BEECH      California              35   \n",
      "82          CESSNA         Alabama             182   \n",
      "\n",
      "                                             RMK_TEXT       FLT_PHASE  \\\n",
      "0   AIRCRAFT CRASHED INTO TREES, THE 1 PERSON ON B...   UNKNOWN (UNK)   \n",
      "1   AIRCRAFT ON LANDING WENT OFF THE END OF THE RU...   LANDING (LDG)   \n",
      "2   AIRCRAFT ON FINAL SUSTAINED A BIRD STRIKE, LAN...  APPROACH (APR)   \n",
      "3   AIRCRAFT ON LANDING, GEAR COLLAPSED, ASHEVILLE...   LANDING (LDG)   \n",
      "4   AIRCRAFT ON LANDING, NOSE GEAR COLLAPSED, TALK...   LANDING (LDG)   \n",
      "..                                                ...             ...   \n",
      "78  AIRCRAFT ON LANDING, GROUND LOOPED, BULVERDE A...   LANDING (LDG)   \n",
      "79  AIRCRAFT CRASHED UNDER UNKNOWN CIRCUMSTANCES, ...   UNKNOWN (UNK)   \n",
      "80  N9872R, BEECH M35 AIRCRAFT, AND N5057G, BELLAN...   UNKNOWN (UNK)   \n",
      "81  N9872R, BEECH M35 AIRCRAFT, AND N5057G, BELLAN...   UNKNOWN (UNK)   \n",
      "82  N784CP AIRCRAFT CRASHED INTO A WOODED AREA NEA...   UNKNOWN (UNK)   \n",
      "\n",
      "   EVENT_TYPE_DESC FATAL_FLAG  \n",
      "0         Accident        Yes  \n",
      "1         Incident        NaN  \n",
      "2         Incident        NaN  \n",
      "3         Incident        NaN  \n",
      "4         Incident        NaN  \n",
      "..             ...        ...  \n",
      "78        Accident        NaN  \n",
      "79        Accident        Yes  \n",
      "80        Accident        Yes  \n",
      "81        Accident        Yes  \n",
      "82        Accident        Yes  \n",
      "\n",
      "[83 rows x 7 columns]\n"
     ]
    }
   ],
   "source": [
    "print(df[['ACFT_MAKE_NAME', 'LOC_STATE_NAME', 'ACFT_MODEL_NAME', 'RMK_TEXT', 'FLT_PHASE', 'EVENT_TYPE_DESC', 'FATAL_FLAG']])"
   ]
  },
  {
   "cell_type": "markdown",
   "metadata": {},
   "source": [
    "### 2. Clean the dataset and replace the fatal flag NaN with “No”"
   ]
  },
  {
   "cell_type": "code",
   "execution_count": 28,
   "metadata": {},
   "outputs": [
    {
     "data": {
      "text/plain": [
       "0     Yes\n",
       "1      No\n",
       "2      No\n",
       "3      No\n",
       "4      No\n",
       "     ... \n",
       "78     No\n",
       "79    Yes\n",
       "80    Yes\n",
       "81    Yes\n",
       "82    Yes\n",
       "Name: FATAL_FLAG, Length: 83, dtype: object"
      ]
     },
     "execution_count": 28,
     "metadata": {},
     "output_type": "execute_result"
    }
   ],
   "source": [
    "df['FATAL_FLAG'] = df['FATAL_FLAG'].fillna('No')\n",
    "df['FATAL_FLAG']"
   ]
  },
  {
   "cell_type": "markdown",
   "metadata": {},
   "source": [
    "### 3. Find the aircraft types and their occurrences in the dataset"
   ]
  }
 ],
 "metadata": {
  "interpreter": {
   "hash": "a6cc48f21658e951fd7307dba18cbfa6fb38899d096255d020f7967e3de8ea60"
  },
  "kernelspec": {
   "display_name": "Python 3.9.8 64-bit",
   "language": "python",
   "name": "python3"
  },
  "language_info": {
   "codemirror_mode": {
    "name": "ipython",
    "version": 3
   },
   "file_extension": ".py",
   "mimetype": "text/x-python",
   "name": "python",
   "nbconvert_exporter": "python",
   "pygments_lexer": "ipython3",
   "version": "3.9.8"
  },
  "orig_nbformat": 4
 },
 "nbformat": 4,
 "nbformat_minor": 2
}
