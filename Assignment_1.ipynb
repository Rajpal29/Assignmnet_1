{
 "cells": [
  {
   "cell_type": "markdown",
   "metadata": {},
   "source": [
    "## Assignment 1"
   ]
  },
  {
   "cell_type": "code",
   "execution_count": 104,
   "metadata": {},
   "outputs": [],
   "source": [
    "import pandas as pd\n",
    "import os"
   ]
  },
  {
   "cell_type": "code",
   "execution_count": 105,
   "metadata": {},
   "outputs": [],
   "source": [
    "df = pd.read_csv('./faa_ai_prelim.csv')"
   ]
  },
  {
   "cell_type": "markdown",
   "metadata": {},
   "source": [
    "### 1. View: aircraft make name, state name, aircraft model name, text information, flight phase, event description type, fatal flag"
   ]
  },
  {
   "cell_type": "code",
   "execution_count": 106,
   "metadata": {},
   "outputs": [
    {
     "name": "stdout",
     "output_type": "stream",
     "text": [
      "    ACFT_MAKE_NAME  LOC_STATE_NAME ACFT_MODEL_NAME  \\\n",
      "0            BEECH  North Carolina              36   \n",
      "1             VANS         Florida             RV7   \n",
      "2           CESSNA      New Jersey             172   \n",
      "3          LANCAIR  North Carolina             235   \n",
      "4           CESSNA          Alaska             172   \n",
      "..             ...             ...             ...   \n",
      "78         AERONCA           Texas            O58B   \n",
      "79  NORTH AMERICAN         Arizona             F51   \n",
      "80        CHAMPION      California           8KCAB   \n",
      "81           BEECH      California              35   \n",
      "82          CESSNA         Alabama             182   \n",
      "\n",
      "                                             RMK_TEXT       FLT_PHASE  \\\n",
      "0   AIRCRAFT CRASHED INTO TREES, THE 1 PERSON ON B...   UNKNOWN (UNK)   \n",
      "1   AIRCRAFT ON LANDING WENT OFF THE END OF THE RU...   LANDING (LDG)   \n",
      "2   AIRCRAFT ON FINAL SUSTAINED A BIRD STRIKE, LAN...  APPROACH (APR)   \n",
      "3   AIRCRAFT ON LANDING, GEAR COLLAPSED, ASHEVILLE...   LANDING (LDG)   \n",
      "4   AIRCRAFT ON LANDING, NOSE GEAR COLLAPSED, TALK...   LANDING (LDG)   \n",
      "..                                                ...             ...   \n",
      "78  AIRCRAFT ON LANDING, GROUND LOOPED, BULVERDE A...   LANDING (LDG)   \n",
      "79  AIRCRAFT CRASHED UNDER UNKNOWN CIRCUMSTANCES, ...   UNKNOWN (UNK)   \n",
      "80  N9872R, BEECH M35 AIRCRAFT, AND N5057G, BELLAN...   UNKNOWN (UNK)   \n",
      "81  N9872R, BEECH M35 AIRCRAFT, AND N5057G, BELLAN...   UNKNOWN (UNK)   \n",
      "82  N784CP AIRCRAFT CRASHED INTO A WOODED AREA NEA...   UNKNOWN (UNK)   \n",
      "\n",
      "   EVENT_TYPE_DESC FATAL_FLAG  \n",
      "0         Accident        Yes  \n",
      "1         Incident        NaN  \n",
      "2         Incident        NaN  \n",
      "3         Incident        NaN  \n",
      "4         Incident        NaN  \n",
      "..             ...        ...  \n",
      "78        Accident        NaN  \n",
      "79        Accident        Yes  \n",
      "80        Accident        Yes  \n",
      "81        Accident        Yes  \n",
      "82        Accident        Yes  \n",
      "\n",
      "[83 rows x 7 columns]\n"
     ]
    }
   ],
   "source": [
    "print(df[['ACFT_MAKE_NAME', 'LOC_STATE_NAME', 'ACFT_MODEL_NAME', 'RMK_TEXT', 'FLT_PHASE', 'EVENT_TYPE_DESC', 'FATAL_FLAG']])"
   ]
  },
  {
   "cell_type": "markdown",
   "metadata": {},
   "source": [
    "### 2. Clean the dataset and replace the fatal flag NaN with “No”"
   ]
  },
  {
   "cell_type": "code",
   "execution_count": 107,
   "metadata": {},
   "outputs": [
    {
     "name": "stdout",
     "output_type": "stream",
     "text": [
      "0     Yes\n",
      "1      No\n",
      "2      No\n",
      "3      No\n",
      "4      No\n",
      "     ... \n",
      "78     No\n",
      "79    Yes\n",
      "80    Yes\n",
      "81    Yes\n",
      "82    Yes\n",
      "Name: FATAL_FLAG, Length: 83, dtype: object\n"
     ]
    }
   ],
   "source": [
    "df['FATAL_FLAG'] = df['FATAL_FLAG'].fillna('No')\n",
    "print(df['FATAL_FLAG'])"
   ]
  },
  {
   "cell_type": "markdown",
   "metadata": {},
   "source": [
    "### 3. Find the aircraft types and their occurrences in the dataset"
   ]
  },
  {
   "cell_type": "code",
   "execution_count": 108,
   "metadata": {},
   "outputs": [
    {
     "data": {
      "text/plain": [
       "ACFT_MAKE_NAME          ACFT_MODEL_NAME\n",
       "AERO COMMANDER          500                1\n",
       "AERONCA                 O58B               1\n",
       "AEROSTAR INTERNATIONAL  RX8                1\n",
       "AIRBUS                  A319               1\n",
       "BEECH                   33                 1\n",
       "                        35                 3\n",
       "                        36                 3\n",
       "                        55                 1\n",
       "                        T34                1\n",
       "BELL                    206                1\n",
       "                        47G                1\n",
       "BOEING                  737                2\n",
       "                        747                1\n",
       "CESSNA                  140                1\n",
       "                        150                3\n",
       "                        152                2\n",
       "                        172                4\n",
       "                        175                1\n",
       "                        180                1\n",
       "                        182                2\n",
       "                        206                2\n",
       "                        210                4\n",
       "                        310                2\n",
       "                        560                1\n",
       "CHAMPION                8KCAB              2\n",
       "CHRISTEN                EAGLE II           1\n",
       "CONSOLIDATED VULTEE     BT15               1\n",
       "EMBRAER                 ERJ190             1\n",
       "FAIRCHILD               PT19               1\n",
       "FLIGHT DESIGN           CTLS               1\n",
       "GLOBE                   GC1B               1\n",
       "GREAT LAKES             2T1A               1\n",
       "GRUMMAN                 AA1                1\n",
       "GULFSTREAM              GULFSTREAM200      1\n",
       "HUGHES                  369                1\n",
       "LANCAIR                 235                1\n",
       "                        IV                 1\n",
       "MAULE                   M4                 1\n",
       "MOONEY                  M20E               1\n",
       "                        M20K               2\n",
       "                        M20M               1\n",
       "NORTH AMERICAN          F51                1\n",
       "PIPER                   PA20               1\n",
       "                        PA24               2\n",
       "                        PA28               3\n",
       "                        PA31               1\n",
       "                        PA34               3\n",
       "PITTS                   S2                 1\n",
       "SAAB                    340                1\n",
       "SABRELINER              NA265              1\n",
       "SOCATA                  TB21               1\n",
       "                        TB9                1\n",
       "VANS                    RV7                1\n",
       "Name: count, dtype: int64"
      ]
     },
     "execution_count": 108,
     "metadata": {},
     "output_type": "execute_result"
    }
   ],
   "source": [
    "df[\"count\"] = 1 \n",
    "df.groupby([\"ACFT_MAKE_NAME\", \"ACFT_MODEL_NAME\"]).count()[\"count\"]"
   ]
  },
  {
   "cell_type": "markdown",
   "metadata": {},
   "source": [
    "### 4. Remove all the observations where aircraft names are not available"
   ]
  },
  {
   "cell_type": "code",
   "execution_count": 109,
   "metadata": {},
   "outputs": [
    {
     "data": {
      "text/plain": [
       "0      BEECH\n",
       "1       VANS\n",
       "2     CESSNA\n",
       "3    LANCAIR\n",
       "4     CESSNA\n",
       "5       BELL\n",
       "6      PIPER\n",
       "7     CESSNA\n",
       "8     BOEING\n",
       "9     CESSNA\n",
       "Name: ACFT_MAKE_NAME, dtype: object"
      ]
     },
     "execution_count": 109,
     "metadata": {},
     "output_type": "execute_result"
    }
   ],
   "source": [
    "\n",
    "nan_value = float('NaN') \n",
    "df.replace('', nan_value, inplace=True)\n",
    "df.dropna(subset = ['ACFT_MAKE_NAME'], inplace=True)\n",
    "\n",
    "# df['ACFT_MAKE_NAME'].head(10)\n",
    "\n",
    "# we can't see row 9 as it was dropped due to it not having an available aircraft_make_name, \n",
    "# so we would need to 'reset' the row numbers so that the row numbers are in an order of incrementing 1\n",
    "\n",
    "df = df.reset_index(drop=True)\n",
    "\n",
    "df['ACFT_MAKE_NAME'].head(10)"
   ]
  }
 ],
 "metadata": {
  "interpreter": {
   "hash": "a6cc48f21658e951fd7307dba18cbfa6fb38899d096255d020f7967e3de8ea60"
  },
  "kernelspec": {
   "display_name": "Python 3.9.8 64-bit",
   "language": "python",
   "name": "python3"
  },
  "language_info": {
   "codemirror_mode": {
    "name": "ipython",
    "version": 3
   },
   "file_extension": ".py",
   "mimetype": "text/x-python",
   "name": "python",
   "nbconvert_exporter": "python",
   "pygments_lexer": "ipython3",
   "version": "3.9.8"
  },
  "orig_nbformat": 4
 },
 "nbformat": 4,
 "nbformat_minor": 2
}
